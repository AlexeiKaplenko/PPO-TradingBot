{
 "cells": [
  {
   "cell_type": "code",
   "execution_count": 1,
   "metadata": {},
   "outputs": [
    {
     "name": "stderr",
     "output_type": "stream",
     "text": [
      "/home/oleksii/anaconda3/envs/stable_baselines/lib/python3.7/site-packages/tensorflow/python/framework/dtypes.py:516: FutureWarning: Passing (type, 1) or '1type' as a synonym of type is deprecated; in a future version of numpy, it will be understood as (type, (1,)) / '(1,)type'.\n",
      "  _np_qint8 = np.dtype([(\"qint8\", np.int8, 1)])\n",
      "/home/oleksii/anaconda3/envs/stable_baselines/lib/python3.7/site-packages/tensorflow/python/framework/dtypes.py:517: FutureWarning: Passing (type, 1) or '1type' as a synonym of type is deprecated; in a future version of numpy, it will be understood as (type, (1,)) / '(1,)type'.\n",
      "  _np_quint8 = np.dtype([(\"quint8\", np.uint8, 1)])\n",
      "/home/oleksii/anaconda3/envs/stable_baselines/lib/python3.7/site-packages/tensorflow/python/framework/dtypes.py:518: FutureWarning: Passing (type, 1) or '1type' as a synonym of type is deprecated; in a future version of numpy, it will be understood as (type, (1,)) / '(1,)type'.\n",
      "  _np_qint16 = np.dtype([(\"qint16\", np.int16, 1)])\n",
      "/home/oleksii/anaconda3/envs/stable_baselines/lib/python3.7/site-packages/tensorflow/python/framework/dtypes.py:519: FutureWarning: Passing (type, 1) or '1type' as a synonym of type is deprecated; in a future version of numpy, it will be understood as (type, (1,)) / '(1,)type'.\n",
      "  _np_quint16 = np.dtype([(\"quint16\", np.uint16, 1)])\n",
      "/home/oleksii/anaconda3/envs/stable_baselines/lib/python3.7/site-packages/tensorflow/python/framework/dtypes.py:520: FutureWarning: Passing (type, 1) or '1type' as a synonym of type is deprecated; in a future version of numpy, it will be understood as (type, (1,)) / '(1,)type'.\n",
      "  _np_qint32 = np.dtype([(\"qint32\", np.int32, 1)])\n",
      "/home/oleksii/anaconda3/envs/stable_baselines/lib/python3.7/site-packages/tensorflow/python/framework/dtypes.py:525: FutureWarning: Passing (type, 1) or '1type' as a synonym of type is deprecated; in a future version of numpy, it will be understood as (type, (1,)) / '(1,)type'.\n",
      "  np_resource = np.dtype([(\"resource\", np.ubyte, 1)])\n",
      "/home/oleksii/anaconda3/envs/stable_baselines/lib/python3.7/site-packages/tensorboard/compat/tensorflow_stub/dtypes.py:541: FutureWarning: Passing (type, 1) or '1type' as a synonym of type is deprecated; in a future version of numpy, it will be understood as (type, (1,)) / '(1,)type'.\n",
      "  _np_qint8 = np.dtype([(\"qint8\", np.int8, 1)])\n",
      "/home/oleksii/anaconda3/envs/stable_baselines/lib/python3.7/site-packages/tensorboard/compat/tensorflow_stub/dtypes.py:542: FutureWarning: Passing (type, 1) or '1type' as a synonym of type is deprecated; in a future version of numpy, it will be understood as (type, (1,)) / '(1,)type'.\n",
      "  _np_quint8 = np.dtype([(\"quint8\", np.uint8, 1)])\n",
      "/home/oleksii/anaconda3/envs/stable_baselines/lib/python3.7/site-packages/tensorboard/compat/tensorflow_stub/dtypes.py:543: FutureWarning: Passing (type, 1) or '1type' as a synonym of type is deprecated; in a future version of numpy, it will be understood as (type, (1,)) / '(1,)type'.\n",
      "  _np_qint16 = np.dtype([(\"qint16\", np.int16, 1)])\n",
      "/home/oleksii/anaconda3/envs/stable_baselines/lib/python3.7/site-packages/tensorboard/compat/tensorflow_stub/dtypes.py:544: FutureWarning: Passing (type, 1) or '1type' as a synonym of type is deprecated; in a future version of numpy, it will be understood as (type, (1,)) / '(1,)type'.\n",
      "  _np_quint16 = np.dtype([(\"quint16\", np.uint16, 1)])\n",
      "/home/oleksii/anaconda3/envs/stable_baselines/lib/python3.7/site-packages/tensorboard/compat/tensorflow_stub/dtypes.py:545: FutureWarning: Passing (type, 1) or '1type' as a synonym of type is deprecated; in a future version of numpy, it will be understood as (type, (1,)) / '(1,)type'.\n",
      "  _np_qint32 = np.dtype([(\"qint32\", np.int32, 1)])\n",
      "/home/oleksii/anaconda3/envs/stable_baselines/lib/python3.7/site-packages/tensorboard/compat/tensorflow_stub/dtypes.py:550: FutureWarning: Passing (type, 1) or '1type' as a synonym of type is deprecated; in a future version of numpy, it will be understood as (type, (1,)) / '(1,)type'.\n",
      "  np_resource = np.dtype([(\"resource\", np.ubyte, 1)])\n"
     ]
    }
   ],
   "source": [
    "from __future__ import absolute_import\n",
    "from __future__ import print_function\n",
    "from __future__ import division\n",
    "import os\n",
    "# os.environ[\"CUDA_VISIBLE_DEVICES\"]=\"1\"\n",
    "\n",
    "import tensorflow as tf\n",
    "import sys\n",
    "import numpy as np\n",
    "\n",
    "\n",
    "from TFTraderEnv import OhlcvEnv\n",
    "from stable_baselines import DQN, PPO2, A2C, ACKTR\n",
    "from stable_baselines.common.cmd_util import make_vec_env\n",
    "from stable_baselines.common.policies import MlpPolicy, MlpLstmPolicy\n",
    "from stable_baselines.common.callbacks import BaseCallback\n",
    "from stable_baselines.results_plotter import load_results, ts2xy\n",
    "from stable_baselines.bench import Monitor\n",
    "import shutil\n"
   ]
  },
  {
   "cell_type": "code",
   "execution_count": 2,
   "metadata": {},
   "outputs": [
    {
     "name": "stdout",
     "output_type": "stream",
     "text": [
      "Start time linux: 1578873600.0310001\n",
      "Start time human: 2020-01-13 01:00:00.031000\n"
     ]
    }
   ],
   "source": [
    "# create environment for train and test\n",
    "# PATH_TRAIN = \"./data/train/\"\n",
    "# PATH_TEST = \"./data/test/\"\n",
    "# PATH_TRAIN =  \"../data/BRENT/\"\n",
    "PATH_TRAIN = \"../data/BRENT_linux_timestamp/\"\n",
    "\n",
    "TIMESTEP = 512 # window size 30\n",
    "environment =  OhlcvEnv(window_size=TIMESTEP, path=PATH_TRAIN, train=True)"
   ]
  },
  {
   "cell_type": "code",
   "execution_count": 3,
   "metadata": {},
   "outputs": [],
   "source": [
    "log_dir = \"./saved_agent\"\n",
    "# Logs will be saved in log_dir/monitor.csv\n",
    "# environment = Monitor(environment, log_dir)\n",
    "environment = make_vec_env(lambda: environment, n_envs=1)\n"
   ]
  },
  {
   "cell_type": "code",
   "execution_count": 4,
   "metadata": {
    "scrolled": true
   },
   "outputs": [
    {
     "name": "stdout",
     "output_type": "stream",
     "text": [
      "WARNING:tensorflow:From /home/oleksii/anaconda3/envs/stable_baselines/lib/python3.7/site-packages/stable_baselines-2.10.1a1-py3.7.egg/stable_baselines/common/tf_util.py:191: The name tf.ConfigProto is deprecated. Please use tf.compat.v1.ConfigProto instead.\n",
      "\n",
      "WARNING:tensorflow:From /home/oleksii/anaconda3/envs/stable_baselines/lib/python3.7/site-packages/stable_baselines-2.10.1a1-py3.7.egg/stable_baselines/common/tf_util.py:200: The name tf.Session is deprecated. Please use tf.compat.v1.Session instead.\n",
      "\n",
      "WARNING:tensorflow:From /home/oleksii/anaconda3/envs/stable_baselines/lib/python3.7/site-packages/stable_baselines-2.10.1a1-py3.7.egg/stable_baselines/common/policies.py:116: The name tf.variable_scope is deprecated. Please use tf.compat.v1.variable_scope instead.\n",
      "\n",
      "WARNING:tensorflow:From /home/oleksii/anaconda3/envs/stable_baselines/lib/python3.7/site-packages/stable_baselines-2.10.1a1-py3.7.egg/stable_baselines/common/input.py:25: The name tf.placeholder is deprecated. Please use tf.compat.v1.placeholder instead.\n",
      "\n",
      "WARNING:tensorflow:From /home/oleksii/anaconda3/envs/stable_baselines/lib/python3.7/site-packages/stable_baselines-2.10.1a1-py3.7.egg/stable_baselines/common/policies.py:561: flatten (from tensorflow.python.layers.core) is deprecated and will be removed in a future version.\n",
      "Instructions for updating:\n",
      "Use keras.layers.flatten instead.\n",
      "WARNING:tensorflow:Entity <bound method Flatten.call of <tensorflow.python.layers.core.Flatten object at 0x7fd604a44f50>> could not be transformed and will be executed as-is. Please report this to the AutgoGraph team. When filing the bug, set the verbosity to 10 (on Linux, `export AUTOGRAPH_VERBOSITY=10`) and attach the full output. Cause: converting <bound method Flatten.call of <tensorflow.python.layers.core.Flatten object at 0x7fd604a44f50>>: AttributeError: module 'gast' has no attribute 'Num'\n",
      "WARNING: Entity <bound method Flatten.call of <tensorflow.python.layers.core.Flatten object at 0x7fd604a44f50>> could not be transformed and will be executed as-is. Please report this to the AutgoGraph team. When filing the bug, set the verbosity to 10 (on Linux, `export AUTOGRAPH_VERBOSITY=10`) and attach the full output. Cause: converting <bound method Flatten.call of <tensorflow.python.layers.core.Flatten object at 0x7fd604a44f50>>: AttributeError: module 'gast' has no attribute 'Num'\n",
      "WARNING:tensorflow:From /home/oleksii/anaconda3/envs/stable_baselines/lib/python3.7/site-packages/stable_baselines-2.10.1a1-py3.7.egg/stable_baselines/common/tf_layers.py:123: The name tf.get_variable is deprecated. Please use tf.compat.v1.get_variable instead.\n",
      "\n",
      "WARNING:tensorflow:Entity <bound method Flatten.call of <tensorflow.python.layers.core.Flatten object at 0x7fd5442b1250>> could not be transformed and will be executed as-is. Please report this to the AutgoGraph team. When filing the bug, set the verbosity to 10 (on Linux, `export AUTOGRAPH_VERBOSITY=10`) and attach the full output. Cause: converting <bound method Flatten.call of <tensorflow.python.layers.core.Flatten object at 0x7fd5442b1250>>: AttributeError: module 'gast' has no attribute 'Num'\n",
      "WARNING: Entity <bound method Flatten.call of <tensorflow.python.layers.core.Flatten object at 0x7fd5442b1250>> could not be transformed and will be executed as-is. Please report this to the AutgoGraph team. When filing the bug, set the verbosity to 10 (on Linux, `export AUTOGRAPH_VERBOSITY=10`) and attach the full output. Cause: converting <bound method Flatten.call of <tensorflow.python.layers.core.Flatten object at 0x7fd5442b1250>>: AttributeError: module 'gast' has no attribute 'Num'\n",
      "WARNING:tensorflow:From /home/oleksii/anaconda3/envs/stable_baselines/lib/python3.7/site-packages/stable_baselines-2.10.1a1-py3.7.egg/stable_baselines/ppo2/ppo2.py:190: The name tf.summary.scalar is deprecated. Please use tf.compat.v1.summary.scalar instead.\n",
      "\n",
      "WARNING:tensorflow:From /home/oleksii/anaconda3/envs/stable_baselines/lib/python3.7/site-packages/tensorflow/python/ops/math_grad.py:1250: add_dispatch_support.<locals>.wrapper (from tensorflow.python.ops.array_ops) is deprecated and will be removed in a future version.\n",
      "Instructions for updating:\n",
      "Use tf.where in 2.0, which has the same broadcast rule as np.where\n",
      "WARNING:tensorflow:From /home/oleksii/anaconda3/envs/stable_baselines/lib/python3.7/site-packages/stable_baselines-2.10.1a1-py3.7.egg/stable_baselines/ppo2/ppo2.py:206: The name tf.train.AdamOptimizer is deprecated. Please use tf.compat.v1.train.AdamOptimizer instead.\n",
      "\n",
      "WARNING:tensorflow:From /home/oleksii/anaconda3/envs/stable_baselines/lib/python3.7/site-packages/stable_baselines-2.10.1a1-py3.7.egg/stable_baselines/ppo2/ppo2.py:242: The name tf.summary.merge_all is deprecated. Please use tf.compat.v1.summary.merge_all instead.\n",
      "\n"
     ]
    }
   ],
   "source": [
    "# agent = PPO2.load(\"./saved_agent.zip\", env=environment)\n",
    "# agent = PPO2.load(\"./saved_agent_250k_USDCHF.zip\", env=environment)\n",
    "agent = PPO2.load(\"./BRENT_2.zip\", env=environment)\n",
    "\n"
   ]
  },
  {
   "cell_type": "code",
   "execution_count": null,
   "metadata": {
    "scrolled": true
   },
   "outputs": [
    {
     "name": "stdout",
     "output_type": "stream",
     "text": [
      "start episode ... 1 at 99169 tick\n",
      "Tick: 100000/ Portfolio : 0\n",
      "Action OPEN_SHORT_3\n",
      "temp_reward: [-0.0001  0.001   0.001  -0.0115 -0.0115 -0.011   0.    ]\n",
      "temp_reward_sum: -0.03210000000000268\n",
      "reward 0\n",
      "position_array [1. 1. 1. 1. 1. 1. 0.]\n",
      "linux_timestamp_end [[ 0.01391685  0.65015     0.64965    ... -0.0151     -0.0146\n",
      "   0.        ]\n",
      " [ 0.01392469  0.65031     0.64981    ... -0.0145     -0.014\n",
      "   0.        ]\n",
      " [ 0.01395035  0.65026     0.64976    ... -0.0161     -0.0156\n",
      "   0.        ]\n",
      " ...\n",
      " [ 0.0338474   0.64985     0.64935    ... -0.0131     -0.0126\n",
      "   0.        ]\n",
      " [ 0.03398644  0.64995     0.64935    ... -0.0115     -0.011\n",
      "   0.        ]\n",
      " [ 0.0340765   0.64985     0.64925    ... -0.0125     -0.012\n",
      "   0.        ]]\n",
      "closed_long_0: 0 closed_long_1: 0 closed_long_2: 0 closed_short_3: 0 closed_short_4: 0 closed_short_5: 0\n",
      "total_profit_long 0 total_profit_short 0\n",
      "\n",
      "\n",
      "\n",
      "Tick: 110000/ Portfolio : 0\n",
      "Action OPEN_LONG_1\n",
      "temp_reward: [-0.0625 -0.0614 -0.0614  0.0519  0.0519  0.0524  0.    ]\n",
      "temp_reward_sum: -0.029100000000003012\n",
      "reward 0\n",
      "position_array [1. 1. 1. 1. 1. 1. 0.]\n",
      "linux_timestamp_end [[0.11764034 0.64406    0.64356    ... 0.0474     0.0479     0.        ]\n",
      " [0.11764147 0.64395    0.64345    ... 0.0464     0.0469     0.        ]\n",
      " [0.11764183 0.64385    0.64335    ... 0.0475     0.048      0.        ]\n",
      " ...\n",
      " [0.11923119 0.64351    0.64301    ... 0.0524     0.0529     0.        ]\n",
      " [0.11923272 0.64335    0.64285    ... 0.0519     0.0524     0.        ]\n",
      " [0.11923318 0.64351    0.64301    ... 0.0535     0.054      0.        ]]\n",
      "closed_long_0: 0 closed_long_1: 0 closed_long_2: 0 closed_short_3: 0 closed_short_4: 0 closed_short_5: 0\n",
      "total_profit_long 0 total_profit_short 0\n",
      "\n",
      "\n",
      "\n"
     ]
    }
   ],
   "source": [
    "# Enjoy trained agent\n",
    "obs = environment.reset()\n",
    "while True:\n",
    "    action, _states = agent.predict(obs)\n",
    "    obs, rewards, dones, info = environment.step(action)\n",
    "    environment.render()"
   ]
  },
  {
   "cell_type": "code",
   "execution_count": null,
   "metadata": {},
   "outputs": [],
   "source": []
  }
 ],
 "metadata": {
  "kernelspec": {
   "display_name": "Python 3",
   "language": "python",
   "name": "python3"
  },
  "language_info": {
   "codemirror_mode": {
    "name": "ipython",
    "version": 3
   },
   "file_extension": ".py",
   "mimetype": "text/x-python",
   "name": "python",
   "nbconvert_exporter": "python",
   "pygments_lexer": "ipython3",
   "version": "3.7.6"
  }
 },
 "nbformat": 4,
 "nbformat_minor": 4
}
